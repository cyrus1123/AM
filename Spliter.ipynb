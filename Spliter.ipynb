{
  "nbformat": 4,
  "nbformat_minor": 0,
  "metadata": {
    "colab": {
      "provenance": [],
      "authorship_tag": "ABX9TyMNKPT0THMu/8TJRG0d/BGr",
      "include_colab_link": true
    },
    "kernelspec": {
      "name": "python3",
      "display_name": "Python 3"
    },
    "language_info": {
      "name": "python"
    }
  },
  "cells": [
    {
      "cell_type": "markdown",
      "metadata": {
        "id": "view-in-github",
        "colab_type": "text"
      },
      "source": [
        "<a href=\"https://colab.research.google.com/github/cyrus1123/AM/blob/main/Spliter.ipynb\" target=\"_parent\"><img src=\"https://colab.research.google.com/assets/colab-badge.svg\" alt=\"Open In Colab\"/></a>"
      ]
    },
    {
      "cell_type": "code",
      "source": [
        "def presept(Region):\n",
        "  DR1 = {key: [] for key in Region}\n",
        "  for channel in Region:\n",
        "    DR1[channel] = d[d[\"Name\"].apply(lambda x: x[1] == channel)]\n",
        "  return DR1"
      ],
      "metadata": {
        "id": "LT6mDzSIzOpn"
      },
      "execution_count": 49,
      "outputs": []
    },
    {
      "cell_type": "code",
      "source": [
        "# Regions\n",
        "R1 = [\"F3-F4\",\n",
        "      \"F7-F8\",\n",
        "      \"Fp1-Fp2\",\n",
        "      \"F3-F4-F7-F8-Fp1-Fp2-Fz\",\n",
        "      \"F3-F4-F7-F8-Fp1-Fp2\",\n",
        "      \"F3-F7-Fp1\",\n",
        "      \"F4-F8-Fp2\"]\n",
        "\n",
        "R2 = [\"C3-C4\",\n",
        "      \"C3-C4-Cz\"]\n",
        "\n",
        "R3 = [\"P3-P4\",\n",
        "      \"P7-P8\",\n",
        "      \"P3-P4-P7-P8-Pz\",\n",
        "      \"P3-P4-P7-P8\"]\n",
        "\n",
        "R4 = [\"F3-C3\",\n",
        "      \"F4-C4\",\n",
        "      \"F7-C3\",\n",
        "      \"F8-C4\",\n",
        "      \"Fp1-C3\",\n",
        "      \"Fp2-C4\"]\n",
        "\n",
        "R5 = [\"F3-P3\",\n",
        "      \"F3-P7\",\n",
        "      \"F4-P4\",\n",
        "      \"F4-P8\",\n",
        "      \"F7-P3\",\n",
        "      \"F7-P7\"]\n",
        "\n",
        "R6 = [\"F8-P4\",\n",
        "      \"F8-P8\",\n",
        "      \"Fp1-P3\",\n",
        "      \"Fp1-P7\",\n",
        "      \"Fp2-P4\",\n",
        "      \"Fp1-P8\"]\n",
        "R = R1 + R2 + R3 + R4 + R5 + R6\n",
        "\n",
        "Regions = [R1 , R2 , R3 , R4 , R5 , R6]\n",
        "\n",
        "def brain_region(a):\n",
        "\n",
        "  return [part.strip() for index, part in enumerate(a.split(\"_\")) if index in [0, 2]]\n",
        "\n",
        "\n",
        "import pandas as pd\n",
        "\n",
        "# Read the Excel file\n",
        "df = pd.read_excel(\"M1.xlsx\")\n",
        "\n",
        "# Display the first few rows to inspect the structure\n",
        "# df.head()\n",
        "df1 = df.copy()\n",
        "df1['Name'] = df1['Name'].apply(lambda x: brain_region(x))\n",
        "# Split the dataframe based on the presence of 'PVP' in the 'Name' column\n",
        "df_pvp = df[df['Name'].str.contains('PVP')]\n",
        "df_non_pvp = df[~df['Name'].str.contains('PVP')]\n",
        "\n",
        "d = df_non_pvp.copy()\n",
        "d[\"Name\"] =df_non_pvp[\"Name\"].apply(lambda x: brain_region(x))\n",
        "\n",
        "def presept(Region):\n",
        "  DR1 = {key: [] for key in Region}\n",
        "  for channel in Region:\n",
        "    DR1[channel] = d[d[\"Name\"].apply(lambda x: x[1] == channel)]\n",
        "  return DR1\n",
        "\n",
        "  # m = 1, r = 3.55, PVP\n",
        "Patient = ['20','25','28','46','52','60','61','66','68','69','70']\n",
        "def sepr(Region, mr):\n",
        "  # patient = '20'\n",
        "  # mr = 0 # 0-5\n",
        "  DRR1= {key: [] for key in Patient}\n",
        "  for channel in Region:\n",
        "    for patient in Patient:\n",
        "      DRR1[patient].append( presept(Region)[\"{}\".format(channel)][presept(Region)[\"{}\".format(channel)][\"Name\"].apply(lambda x: any(\"{}\".format(patient) in s for s in x))].iloc[mr])\n",
        "  return DRR1\n",
        "\n",
        "def sheeter(channel_name, Region, mr):\n",
        "  TEMP = []\n",
        "  for patient in Patient:\n",
        "      TEMP.append(sepr(Region,mr)[patient][Region.index(channel_name)])\n",
        "\n",
        "  aq = pd.DataFrame(TEMP).reset_index()\n",
        "  aq.drop('index', axis = 1, inplace = True)\n",
        "  aq['Name'] = aq['Name'].apply(lambda x: x[0])\n",
        "  return aq\n",
        "\n",
        "\n",
        "\n",
        "def Region_Maker(Region, mr):\n",
        "    Temp = {key: [] for key in Region}\n",
        "    for channel in Region:\n",
        "        Temp[channel] = sheeter(channel, Region, mr)\n",
        "\n",
        "    file_name = '{}.xlsx'.format(Region)  # This assumes Region can be formatted as a string which might not be what you intend\n",
        "    with pd.ExcelWriter(file_name, engine='openpyxl') as writer:\n",
        "        for key, val in Temp.items():\n",
        "            # Write each DataFrame to a new sheet\n",
        "            val.to_excel(writer, sheet_name=key, index=False)\n",
        "\n",
        "    print(f\"Data saved to '{file_name}'\")\n"
      ],
      "metadata": {
        "id": "mPMfpepjivPU",
        "colab": {
          "base_uri": "https://localhost:8080/"
        },
        "outputId": "83b84557-86af-4491-dc3e-e5ca41da57ea"
      },
      "execution_count": 51,
      "outputs": [
        {
          "output_type": "stream",
          "name": "stdout",
          "text": [
            "Data saved to '['C3-C4', 'C3-C4-Cz'].xlsx'\n"
          ]
        }
      ]
    },
    {
      "cell_type": "code",
      "source": [
        "Region_Maker(R2, 5)"
      ],
      "metadata": {
        "colab": {
          "base_uri": "https://localhost:8080/"
        },
        "id": "6Y_XCYpv1AcC",
        "outputId": "a1809e2b-2421-472b-8fcd-fe4d84535d3e"
      },
      "execution_count": 52,
      "outputs": [
        {
          "output_type": "stream",
          "name": "stdout",
          "text": [
            "Data saved to '['C3-C4', 'C3-C4-Cz'].xlsx'\n"
          ]
        }
      ]
    }
  ]
}