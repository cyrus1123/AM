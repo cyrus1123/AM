{
  "nbformat": 4,
  "nbformat_minor": 0,
  "metadata": {
    "colab": {
      "provenance": [],
      "authorship_tag": "ABX9TyM2dalAv/CvsOvKjPPWN284",
      "include_colab_link": true
    },
    "kernelspec": {
      "name": "python3",
      "display_name": "Python 3"
    },
    "language_info": {
      "name": "python"
    }
  },
  "cells": [
    {
      "cell_type": "markdown",
      "metadata": {
        "id": "view-in-github",
        "colab_type": "text"
      },
      "source": [
        "<a href=\"https://colab.research.google.com/github/cyrus1123/AM/blob/main/Untitled42.ipynb\" target=\"_parent\"><img src=\"https://colab.research.google.com/assets/colab-badge.svg\" alt=\"Open In Colab\"/></a>"
      ]
    },
    {
      "cell_type": "code",
      "source": [
        "# Regions\n",
        "R1 = [\"F3-F4\",\n",
        "      \"F7-F8\",\n",
        "      \"Fp1-Fp2\",\n",
        "      \"F3-F4-F7-F8-Fp1-Fp2-Fz\",\n",
        "      \"F3-F4-F7-F8-Fp1-Fp2\",\n",
        "      \"F3-F7-Fp1\",\n",
        "      \"F4-F8-Fp2\"]\n",
        "\n",
        "R2 = [\"C3-C4\",\n",
        "      \"C3-C4-Cz\"]\n",
        "\n",
        "R3 = [\"P3-P4\",\n",
        "      \"P7-P8\",\n",
        "      \"P3-P4-P7-P8-Pz\",\n",
        "      \"P3-P4-P7-P8\"]\n",
        "\n",
        "R4 = [\"F3-C3\",\n",
        "      \"F4-C4\",\n",
        "      \"F7-C3\",\n",
        "      \"F8-C4\",\n",
        "      \"Fp1-C3\",\n",
        "      \"Fp2-C4\"]\n",
        "\n",
        "R5 = [\"F3-P3\",\n",
        "      \"F3-P7\",\n",
        "      \"F4-P4\",\n",
        "      \"F4-P8\",\n",
        "      \"F7-P3\",\n",
        "      \"F7-P7\"]\n",
        "\n",
        "R6 = [\"F8-P4\",\n",
        "      \"F8-P8\",\n",
        "      \"Fp1-P3\",\n",
        "      \"Fp1-P7\",\n",
        "      \"Fp2-P4\",\n",
        "      \"Fp1-P8\"]\n",
        "R = R1 + R2 + R3 + R4 + R5 + R6\n",
        "\n",
        "Regions = [R1 , R2 , R3 , R4 , R5 , R6]"
      ],
      "metadata": {
        "id": "mPMfpepjivPU"
      },
      "execution_count": 164,
      "outputs": []
    },
    {
      "cell_type": "code",
      "source": [
        "a = \"ETS-PS61_PVP_Fp1-Fp2_Fp1-Fp2\""
      ],
      "metadata": {
        "id": "GUdWUYMkg4qZ"
      },
      "execution_count": 53,
      "outputs": []
    },
    {
      "cell_type": "code",
      "source": [
        "def brain_region(a):\n",
        "\n",
        "  return [part.strip() for index, part in enumerate(a.split(\"_\")) if index in [0, 2]]\n",
        "\n",
        "\n"
      ],
      "metadata": {
        "id": "Ihm-WO3Dj76g"
      },
      "execution_count": 54,
      "outputs": []
    },
    {
      "cell_type": "code",
      "source": [
        "brain_region(a)"
      ],
      "metadata": {
        "colab": {
          "base_uri": "https://localhost:8080/"
        },
        "id": "df_f4-rAg7wM",
        "outputId": "5ba10f03-b5a9-4357-a0a5-36a8eb4fb1cc"
      },
      "execution_count": 55,
      "outputs": [
        {
          "output_type": "execute_result",
          "data": {
            "text/plain": [
              "['ETS-PS61', 'Fp1-Fp2']"
            ]
          },
          "metadata": {},
          "execution_count": 55
        }
      ]
    },
    {
      "cell_type": "code",
      "source": [
        "import pandas as pd\n",
        "\n",
        "# Read the Excel file\n",
        "df = pd.read_excel(\"M1.xlsx\")\n",
        "\n",
        "# Display the first few rows to inspect the structure\n",
        "# df.head()\n"
      ],
      "metadata": {
        "id": "cYyTXjeipqTt"
      },
      "execution_count": 5,
      "outputs": []
    },
    {
      "cell_type": "code",
      "source": [
        "df1 = df.copy()\n",
        "df1['Name'] = df1['Name'].apply(lambda x: brain_region(x))\n",
        "df1"
      ],
      "metadata": {
        "id": "aau6NleD3MBH"
      },
      "execution_count": null,
      "outputs": []
    },
    {
      "cell_type": "code",
      "execution_count": 57,
      "metadata": {
        "id": "FrfPQHinnuvA",
        "colab": {
          "base_uri": "https://localhost:8080/"
        },
        "outputId": "e6556097-b5f5-446e-cffb-e7ae083dcbec"
      },
      "outputs": [
        {
          "output_type": "execute_result",
          "data": {
            "text/plain": [
              "((2046, 60), (2046, 60))"
            ]
          },
          "metadata": {},
          "execution_count": 57
        }
      ],
      "source": [
        "# Split the dataframe based on the presence of 'PVP' in the 'Name' column\n",
        "df_pvp = df[df['Name'].str.contains('PVP')]\n",
        "df_non_pvp = df[~df['Name'].str.contains('PVP')]\n",
        "\n",
        "df_pvp.shape, df_non_pvp.shape\n"
      ]
    },
    {
      "cell_type": "code",
      "source": [
        "d = df_non_pvp.copy()\n",
        "d[\"Name\"] =df_non_pvp[\"Name\"].apply(lambda x: brain_region(x))"
      ],
      "metadata": {
        "id": "B3gv3b1MogTG"
      },
      "execution_count": 58,
      "outputs": []
    },
    {
      "cell_type": "code",
      "source": [
        "# s = d[d[\"Name\"].apply(lambda x: x[1] == R1[2])]\n"
      ],
      "metadata": {
        "id": "hadtXycfuq-D"
      },
      "execution_count": 10,
      "outputs": []
    },
    {
      "cell_type": "code",
      "source": [
        "# d[d[\"Name\"].apply(lambda x: x[1] == R[4])].shape[0]"
      ],
      "metadata": {
        "colab": {
          "base_uri": "https://localhost:8080/"
        },
        "id": "TUGiyzbUO7yS",
        "outputId": "79cf9b74-547c-4ce5-dc85-56b0d4c5428d"
      },
      "execution_count": 12,
      "outputs": [
        {
          "output_type": "execute_result",
          "data": {
            "text/plain": [
              "66"
            ]
          },
          "metadata": {},
          "execution_count": 12
        }
      ]
    },
    {
      "cell_type": "code",
      "source": [
        "d[d[\"Name\"].apply(lambda x: x[1] == 'F3-F4')].shape[0]"
      ],
      "metadata": {
        "colab": {
          "base_uri": "https://localhost:8080/"
        },
        "id": "TAR3Wln4hUQY",
        "outputId": "945229ab-d31b-46da-a422-9e59a8307af9"
      },
      "execution_count": 61,
      "outputs": [
        {
          "output_type": "execute_result",
          "data": {
            "text/plain": [
              "66"
            ]
          },
          "metadata": {},
          "execution_count": 61
        }
      ]
    },
    {
      "cell_type": "code",
      "source": [
        "for channel  in R:\n",
        "  if d[d[\"Name\"].apply(lambda x: x[1] == channel)].shape[0] != 66:\n",
        "    print(channel)\n",
        "  else:\n",
        "    print('Done!')"
      ],
      "metadata": {
        "colab": {
          "base_uri": "https://localhost:8080/"
        },
        "id": "WHlsWEgpOMxq",
        "outputId": "55eaca02-3157-4295-9f8e-06483b5a506c"
      },
      "execution_count": 62,
      "outputs": [
        {
          "output_type": "stream",
          "name": "stdout",
          "text": [
            "Done!\n",
            "Done!\n",
            "Done!\n",
            "Done!\n",
            "Done!\n",
            "Done!\n",
            "Done!\n",
            "Done!\n",
            "Done!\n",
            "Done!\n",
            "Done!\n",
            "Done!\n",
            "Done!\n",
            "Done!\n",
            "Done!\n",
            "Done!\n",
            "Done!\n",
            "Done!\n",
            "Done!\n",
            "Done!\n",
            "Done!\n",
            "Done!\n",
            "Done!\n",
            "Done!\n",
            "Done!\n",
            "Done!\n",
            "Done!\n",
            "Done!\n",
            "Done!\n",
            "Done!\n",
            "Done!\n"
          ]
        }
      ]
    },
    {
      "cell_type": "code",
      "source": [
        "DR1 = {}\n",
        "for channel in R1:\n",
        "  DR1[channel] = d[d[\"Name\"].apply(lambda x: x[1] == channel)]"
      ],
      "metadata": {
        "id": "IuM15YyevBrG"
      },
      "execution_count": 119,
      "outputs": []
    },
    {
      "cell_type": "code",
      "source": [
        "print(DR1['F3-F4']['Name'])"
      ],
      "metadata": {
        "colab": {
          "base_uri": "https://localhost:8080/"
        },
        "id": "1q81OeDyq3F2",
        "outputId": "26db16a4-d206-4ff4-d19e-446c68e91f53"
      },
      "execution_count": 124,
      "outputs": [
        {
          "output_type": "stream",
          "name": "stdout",
          "text": [
            "47      [ETS-PS60, F3-F4]\n",
            "58      [ETS-PS68, F3-F4]\n",
            "230     [ETS-PS68, F3-F4]\n",
            "333     [ETS-PS61, F3-F4]\n",
            "364     [ETS-PS52, F3-F4]\n",
            "              ...        \n",
            "3567    [ETS-PS69, F3-F4]\n",
            "3758    [ETS-PS28, F3-F4]\n",
            "3833    [ETS-PS60, F3-F4]\n",
            "3928    [ETS-PS61, F3-F4]\n",
            "3998    [ETS-PS60, F3-F4]\n",
            "Name: Name, Length: 66, dtype: object\n"
          ]
        }
      ]
    },
    {
      "cell_type": "code",
      "source": [
        "# m = 1, r = 3.55, PVP\n",
        "Patient = ['20','25','28','46','52','60','61','66','68','69','70']\n",
        "def sepr(Region, mr):\n",
        "  # patient = '20'\n",
        "  # mr = 0 # 0-5\n",
        "  DRR1= {key: [] for key in Patient}\n",
        "  for channel in R1:\n",
        "    for patient in Patient:\n",
        "      DRR1[patient].append( DR1[\"{}\".format(channel)][DR1[\"{}\".format(channel)][\"Name\"].apply(lambda x: any(\"{}\".format(patient) in s for s in x))].iloc[mr])\n",
        "  return DRR1\n"
      ],
      "metadata": {
        "id": "v73THLg_kwwd"
      },
      "execution_count": 202,
      "outputs": []
    },
    {
      "cell_type": "code",
      "source": [
        "# sepr(region, mr)[patient][channel_number]"
      ],
      "metadata": {
        "id": "OSWyfxAv9528"
      },
      "execution_count": null,
      "outputs": []
    },
    {
      "cell_type": "code",
      "source": [
        "# for patient in Patient:\n",
        "#   for region in Regions:\n",
        "#     sepr(region,0)[patient][0]"
      ],
      "metadata": {
        "id": "XtbR7aYq9B9P"
      },
      "execution_count": 169,
      "outputs": []
    },
    {
      "cell_type": "code",
      "source": [
        "pip install pandas openpyxl\n"
      ],
      "metadata": {
        "id": "VcyLeAdoCH7v"
      },
      "execution_count": null,
      "outputs": []
    },
    {
      "cell_type": "code",
      "source": [
        "def sheeter(channel_name, Region, mr):\n",
        "  TEMP = []\n",
        "  for patient in Patient:\n",
        "      TEMP.append(sepr(Region,mr)[patient][Region.index(channel_name)])\n",
        "\n",
        "  aq = pd.DataFrame(TEMP).reset_index()\n",
        "  aq.drop('index', axis = 1, inplace = True)\n",
        "  aq['Name'] = aq['Name'].apply(lambda x: x[0])\n",
        "  return aq"
      ],
      "metadata": {
        "id": "mU1zwpEn-o71"
      },
      "execution_count": 211,
      "outputs": []
    },
    {
      "cell_type": "code",
      "source": [
        "def Region_Maker(Region, mr):\n",
        "  Temp = {key: [] for key in Region}\n",
        "  for channel in Region:\n",
        "    Temp[channel] = sheeter(channel, Region, mr)\n",
        "\n",
        "  # return Temp\n",
        "\n",
        "\n",
        "  file_name = '{}'.format(Region)  +  '.xlsx'\n",
        "  with pd.ExcelWriter(file_name, engine='openpyxl') as writer:\n",
        "      for key, val in Temp:\n",
        "          # Write each DataFrame to a new sheet\n",
        "          val.to_excel(writer, sheet_name=key, index=False)\n",
        "\n",
        "  print(f\"Data saved to '{file_name}'\")"
      ],
      "metadata": {
        "id": "Fel_QzkhGbLL"
      },
      "execution_count": 212,
      "outputs": []
    },
    {
      "cell_type": "code",
      "source": [
        "\n",
        "\n",
        "def Region_Maker(Region, mr):\n",
        "    Temp = {key: [] for key in Region}\n",
        "    for channel in Region:\n",
        "        Temp[channel] = sheeter(channel, Region, mr)\n",
        "\n",
        "    file_name = '{}.xlsx'.format(Region)  # This assumes Region can be formatted as a string which might not be what you intend\n",
        "    with pd.ExcelWriter(file_name, engine='openpyxl') as writer:\n",
        "        for key, val in Temp.items():\n",
        "            # Write each DataFrame to a new sheet\n",
        "            val.to_excel(writer, sheet_name=key, index=False)\n",
        "\n",
        "    print(f\"Data saved to '{file_name}'\")\n"
      ],
      "metadata": {
        "id": "GSQAGk9JJ7oJ"
      },
      "execution_count": 213,
      "outputs": []
    },
    {
      "cell_type": "code",
      "source": [
        "Region_Maker(R2, 1)"
      ],
      "metadata": {
        "colab": {
          "base_uri": "https://localhost:8080/"
        },
        "id": "rL3zHlMCJ_n6",
        "outputId": "16e32339-96cf-4db4-8100-e31c6f898740"
      },
      "execution_count": 214,
      "outputs": [
        {
          "output_type": "stream",
          "name": "stdout",
          "text": [
            "Data saved to '['C3-C4', 'C3-C4-Cz'].xlsx'\n"
          ]
        }
      ]
    }
  ]
}